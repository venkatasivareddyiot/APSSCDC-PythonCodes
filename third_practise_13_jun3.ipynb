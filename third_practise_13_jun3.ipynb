{
 "cells": [
  {
   "cell_type": "code",
   "execution_count": 3,
   "metadata": {},
   "outputs": [
    {
     "name": "stdout",
     "output_type": "stream",
     "text": [
      "500 502 504 506 508 510 512 514 516 518 520 522 524 526 528 530 532 534 536 538 540 542 544 546 548 550 "
     ]
    }
   ],
   "source": [
    "#function to print the alternate values in a range\n",
    "# [500, 550] --> 500 502 504 .......550\n",
    "# (500, 550) --> 501 503 505 .......549\n",
    "# range(500, 550) --> 500 501 502 .....549\n",
    "#All set based functions in python have start value inclusive and end value both inclusive and exclusive\n",
    "\n",
    "def alternate_values(start, end):\n",
    "    for i in range(start, end+1, 2):# range(start, end, seperation value)\n",
    "        print(i, end=\" \")\n",
    "    return\n",
    "alternate_values(500,550)"
   ]
  },
  {
   "cell_type": "code",
   "execution_count": 4,
   "metadata": {},
   "outputs": [
    {
     "name": "stdout",
     "output_type": "stream",
     "text": [
      "110 109 108 107 106 105 104 103 102 101 100 "
     ]
    }
   ],
   "source": [
    "#function to print reverse of a given range in the same line\n",
    "\n",
    "def reverse(start, end):\n",
    "    for i in range(end, start-1, -1):\n",
    "        print(i, end=\" \")\n",
    "    return\n",
    "\n",
    "reverse(100,110)"
   ]
  },
  {
   "cell_type": "code",
   "execution_count": 5,
   "metadata": {},
   "outputs": [
    {
     "name": "stdout",
     "output_type": "stream",
     "text": [
      "9 7 5 "
     ]
    }
   ],
   "source": [
    "#function to print only odd number in reverse order in a range\n",
    "\n",
    "def odd_reverse(start,end):\n",
    "    for i in range(end, start-1, -1):\n",
    "        if i%2!=0:\n",
    "            print(i,end=\" \")\n",
    "    return\n",
    "\n",
    "odd_reverse(5,10)"
   ]
  },
  {
   "cell_type": "code",
   "execution_count": 6,
   "metadata": {},
   "outputs": [
    {
     "data": {
      "text/plain": [
       "15150"
      ]
     },
     "execution_count": 6,
     "metadata": {},
     "output_type": "execute_result"
    }
   ],
   "source": [
    "#function to calculate sum of number in a range\n",
    "\n",
    "def summ(start, end):\n",
    "    su=0\n",
    "    for i in range(start, end+1):\n",
    "        su=su+i\n",
    "    return su\n",
    "\n",
    "summ(100, 200)"
   ]
  },
  {
   "cell_type": "code",
   "execution_count": 7,
   "metadata": {},
   "outputs": [
    {
     "data": {
      "text/plain": [
       "5.5"
      ]
     },
     "execution_count": 7,
     "metadata": {},
     "output_type": "execute_result"
    }
   ],
   "source": [
    "#function to calculate sum of number in a range\n",
    "\n",
    "def summ_avg(start, end):\n",
    "    su=0\n",
    "    k=0\n",
    "    for i in range(start, end+1):\n",
    "        su=su+i\n",
    "        k+=1\n",
    "    return su/k\n",
    "summ_avg(1,10)"
   ]
  },
  {
   "cell_type": "code",
   "execution_count": 8,
   "metadata": {},
   "outputs": [
    {
     "name": "stdout",
     "output_type": "stream",
     "text": [
      "2000 2004 2008 2012 2016 2020 "
     ]
    }
   ],
   "source": [
    "#function to generate all leap years in a given time period\n",
    "# 2000 - 2020 --> 2000 2004 2008 2012 2016 2020\n",
    "\n",
    "def isLeapyear(year):\n",
    "    if year%400==0 or (year%4==0 and year%100!=0):\n",
    "        return True\n",
    "    else:\n",
    "        return False\n",
    "    \n",
    "def generate_leap(start, end):\n",
    "    for i in range(start, end+1):\n",
    "        if isLeapyear(i)==True:\n",
    "            print(i, end=\" \")\n",
    "    return\n",
    "\n",
    "generate_leap(2000, 2020)"
   ]
  },
  {
   "cell_type": "code",
   "execution_count": 9,
   "metadata": {},
   "outputs": [
    {
     "data": {
      "text/plain": [
       "4018"
      ]
     },
     "execution_count": 9,
     "metadata": {},
     "output_type": "execute_result"
    }
   ],
   "source": [
    "#function to calculate the number of days in a given time period using leap year logic also\n",
    "\n",
    "def calculate_days(ly,uy):\n",
    "    sum=0\n",
    "    for i in range(ly,uy+1):\n",
    "        if isLeapyear(i)==True:\n",
    "            sum=sum+366\n",
    "        else:\n",
    "            sum=sum+365\n",
    "    return sum\n",
    "\n",
    "calculate_days(2000, 2010)"
   ]
  },
  {
   "cell_type": "code",
   "execution_count": null,
   "metadata": {},
   "outputs": [],
   "source": []
  }
 ],
 "metadata": {
  "kernelspec": {
   "display_name": "Python 3",
   "language": "python",
   "name": "python3"
  },
  "language_info": {
   "codemirror_mode": {
    "name": "ipython",
    "version": 3
   },
   "file_extension": ".py",
   "mimetype": "text/x-python",
   "name": "python",
   "nbconvert_exporter": "python",
   "pygments_lexer": "ipython3",
   "version": "3.7.3"
  }
 },
 "nbformat": 4,
 "nbformat_minor": 2
}
