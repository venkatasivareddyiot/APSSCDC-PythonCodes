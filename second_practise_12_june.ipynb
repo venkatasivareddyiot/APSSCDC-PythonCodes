{
 "cells": [
  {
   "cell_type": "markdown",
   "metadata": {},
   "source": [
    "## Problem Solving and Programming\n",
    "\n",
    "#### 12 June,2019\n",
    "\n",
    "##### Day Objectives\n",
    "\n",
    "        - String slicing\n",
    "        - Functions in Python\n",
    "        - Basic Problems related to conditional statements using functions\n",
    "        - Python Data Structure - Lists, Tuples and Dictionaries\n",
    "            - Basic operations on data structures\n",
    "            - Applying Data Structures to solve problems"
   ]
  },
  {
   "cell_type": "code",
   "execution_count": null,
   "metadata": {},
   "outputs": [],
   "source": []
  },
  {
   "cell_type": "markdown",
   "metadata": {},
   "source": [
    "### String Slicing"
   ]
  },
  {
   "cell_type": "code",
   "execution_count": null,
   "metadata": {},
   "outputs": [],
   "source": [
    "s1 = \"PythonmnbvcxswertyVCDRTYUJNBVcdrtyjNBCDFGhnb\"\n",
    "\n",
    "print(s1[0])   #accessing the first character\n",
    "print(s1[2])   #accessing the third character\n",
    "print(s1[len(s1)-1])   #accessing the last character\n",
    "print(s1[-2])  #accessing the last but one charatcer\n",
    "\n",
    "print(s1[0:2])  #accessing the first two characters\n",
    "print(s1[-2:])  #accessing the last two charatcer\n",
    "print(s1[:-2])  #except the last two all characters will be printed\n",
    "print(s1[4:])   #except the first four characters will be printed"
   ]
  },
  {
   "cell_type": "code",
   "execution_count": null,
   "metadata": {},
   "outputs": [],
   "source": [
    "# Accepting all characters except first and last characters\n",
    "\n",
    "s=\"python\"\n",
    "\n",
    "print(s[1:-1])\n",
    "\n",
    "# Accesing the middle chaarcter of a atring\n",
    "\n",
    "print(s[(len(s)//2)])\n",
    "\n",
    "#Reverse a string\n",
    "\n",
    "print(s[-1::-1])\n",
    "\n",
    "#Accesing last two characters in reverse order\n",
    "\n",
    "print(s[-1:-3:-1])\n",
    "\n",
    "#Reverse the middle two characters in an even length\n",
    "s[len(s1)//2:len(s)//2-2:-1]\n",
    "\n",
    "#Accesing alternate characters in a string\n",
    "print(s[::2])\n",
    "\n",
    "#accesing the alternate characters in reverse string\n",
    "sr=s[-1::-1]\n",
    "print(sr[::2])\n",
    "\n",
    "#or\n",
    "\n",
    "print(s[::-2])"
   ]
  },
  {
   "cell_type": "code",
   "execution_count": null,
   "metadata": {},
   "outputs": [],
   "source": []
  },
  {
   "cell_type": "markdown",
   "metadata": {},
   "source": [
    "## Functions"
   ]
  },
  {
   "cell_type": "code",
   "execution_count": null,
   "metadata": {},
   "outputs": [],
   "source": [
    "#function to reverse a string\n",
    "\n",
    "def reverse_string(s):\n",
    "    return s[::-1]\n",
    "\n",
    "str = input(\"enter the string:\")\n",
    "reverse_string(str)\n"
   ]
  },
  {
   "cell_type": "code",
   "execution_count": null,
   "metadata": {},
   "outputs": [],
   "source": [
    "# Check the string is a palindrome\n",
    "\n",
    "def palindrome(s):\n",
    "    if s == s[::-1]:\n",
    "        return True\n",
    "    else:\n",
    "        return False\n",
    "    \n",
    "str1=input(\"enter the string : \")\n",
    "palindrome(str1)"
   ]
  },
  {
   "cell_type": "code",
   "execution_count": 52,
   "metadata": {},
   "outputs": [
    {
     "name": "stdout",
     "output_type": "stream",
     "text": [
      "enter the year : 2000\n"
     ]
    },
    {
     "data": {
      "text/plain": [
       "True"
      ]
     },
     "execution_count": 52,
     "metadata": {},
     "output_type": "execute_result"
    }
   ],
   "source": [
    "#Function to check if a given year is a year function\n",
    "\n",
    "def leap_year(year):\n",
    "    if year%400==0 or (year%4==0 and year%100!=0):\n",
    "        return True\n",
    "    else:\n",
    "        return False\n",
    "    \n",
    "y=int(input(\"enter the year : \"))\n",
    "leap_year(y)"
   ]
  },
  {
   "cell_type": "code",
   "execution_count": null,
   "metadata": {},
   "outputs": [],
   "source": [
    "# Function to count the number of digits in agiven number\n",
    "\n",
    "def counting(num1):\n",
    "    return len(str(num1))\n",
    "\n",
    "counting(123456)"
   ]
  },
  {
   "cell_type": "code",
   "execution_count": 1,
   "metadata": {},
   "outputs": [
    {
     "data": {
      "text/plain": [
       "567"
      ]
     },
     "execution_count": 1,
     "metadata": {},
     "output_type": "execute_result"
    }
   ],
   "source": [
    "# Function to identify the greatest number\n",
    "\n",
    "def greatest(a,b,c,d):\n",
    "    if a>b and a>c and a>d:\n",
    "        return a\n",
    "    elif b>a and b>c and b>d:\n",
    "        return b\n",
    "    elif c>d and c>a and c>b:\n",
    "        return c\n",
    "    else:\n",
    "        return d\n",
    "    \n",
    "greatest(1,234,432,567)"
   ]
  },
  {
   "cell_type": "code",
   "execution_count": null,
   "metadata": {},
   "outputs": [],
   "source": []
  },
  {
   "cell_type": "markdown",
   "metadata": {},
   "source": [
    "## Iterations\n",
    "\n",
    "- for\n",
    "- while"
   ]
  },
  {
   "cell_type": "code",
   "execution_count": 2,
   "metadata": {},
   "outputs": [
    {
     "name": "stdout",
     "output_type": "stream",
     "text": [
      "enter the range20\n",
      "1 2 3 4 5 6 7 8 9 10 11 12 13 14 15 16 17 18 19 20 "
     ]
    }
   ],
   "source": [
    "# Function to print n natural numbers\n",
    "\n",
    "def natural(n):\n",
    "    for counter in range (1,n+1):\n",
    "        print(counter,end=\" \")\n",
    "\n",
    "d=int(input(\"enter the range\"))\n",
    "natural(d)"
   ]
  },
  {
   "cell_type": "code",
   "execution_count": 1,
   "metadata": {},
   "outputs": [
    {
     "name": "stdout",
     "output_type": "stream",
     "text": [
      "1 2 3 4 5 "
     ]
    }
   ],
   "source": [
    "# Function to print n natural number using while loop\n",
    "\n",
    "def nNatural(num):\n",
    "    counter = 1\n",
    "    while counter<= num:\n",
    "        print(counter, end =\" \")\n",
    "        counter=counter+1\n",
    "    return\n",
    "\n",
    "nNatural(5)"
   ]
  },
  {
   "cell_type": "code",
   "execution_count": 1,
   "metadata": {},
   "outputs": [
    {
     "name": "stdout",
     "output_type": "stream",
     "text": [
      "36 42 48 54 60 66 72 78 84 90 "
     ]
    }
   ],
   "source": [
    "#  Function to print all numbers divisible by 6 and not a factor 100 in a given range (lb,ub)\n",
    "\n",
    "def fun(lb,ub):\n",
    "    i=lb\n",
    "    for i in range(lb,ub+1):\n",
    "        if i%6==0 and 100%i!=0:\n",
    "            print(i,end=\" \")\n",
    "        \n",
    "fun(34,91)"
   ]
  },
  {
   "cell_type": "code",
   "execution_count": 24,
   "metadata": {},
   "outputs": [
    {
     "data": {
      "text/plain": [
       "200.0"
      ]
     },
     "execution_count": 24,
     "metadata": {},
     "output_type": "execute_result"
    }
   ],
   "source": [
    "# Function to find the average of cubes of all even numbers in a given range(lb,ub) inclusive\n",
    "\n",
    "def avg_cubes(lb,ub):\n",
    "    sum=0\n",
    "    for i in range(lb,ub+1):\n",
    "        if i%2==0:\n",
    "            sum+=i**3\n",
    "    return sum/(ub-lb)\n",
    "\n",
    "avg_cubes(1,10)"
   ]
  },
  {
   "cell_type": "code",
   "execution_count": 63,
   "metadata": {},
   "outputs": [
    {
     "name": "stdout",
     "output_type": "stream",
     "text": [
      "enter number12\n"
     ]
    },
    {
     "data": {
      "text/plain": [
       "28"
      ]
     },
     "execution_count": 63,
     "metadata": {},
     "output_type": "execute_result"
    }
   ],
   "source": [
    "#function to generate the list of factors for a given number 12 --> 1,2,3,4,6,12\n",
    "\n",
    "def factor(n):\n",
    "    su=0\n",
    "    for i in range(1,n+1):\n",
    "        if n%i==0:\n",
    "            #print(i,end=\" \")\n",
    "            su+=i\n",
    "    return su\n",
    "            \n",
    "n1=int(input(\"enter number\"))\n",
    "factor(n1)"
   ]
  },
  {
   "cell_type": "code",
   "execution_count": 1,
   "metadata": {},
   "outputs": [
    {
     "data": {
      "text/plain": [
       "24"
      ]
     },
     "execution_count": 1,
     "metadata": {},
     "output_type": "execute_result"
    }
   ],
   "source": [
    "# function to calculate the factorial of a given number\n",
    "\n",
    "def factorial(num):\n",
    "    if num==1:\n",
    "        return num\n",
    "    else:\n",
    "        return num*factorial(num-1)\n",
    "\n",
    "factorial(4)"
   ]
  },
  {
   "cell_type": "code",
   "execution_count": 8,
   "metadata": {},
   "outputs": [
    {
     "data": {
      "text/plain": [
       "True"
      ]
     },
     "execution_count": 8,
     "metadata": {},
     "output_type": "execute_result"
    }
   ],
   "source": [
    "# function to check if a given number is Prime\n",
    "\n",
    "def prime(num):\n",
    "    for i in range(2,num):\n",
    "        if num%i==0:\n",
    "            return False\n",
    "        else:\n",
    "            return True\n",
    "\n",
    "prime(5)"
   ]
  },
  {
   "cell_type": "code",
   "execution_count": 5,
   "metadata": {},
   "outputs": [
    {
     "name": "stdout",
     "output_type": "stream",
     "text": [
      "1\n",
      "2\n",
      "3\n",
      "4\n",
      "5\n",
      "6\n",
      "7\n",
      "8\n",
      "9\n",
      "10\n"
     ]
    },
    {
     "data": {
      "text/plain": [
       "12.0"
      ]
     },
     "execution_count": 5,
     "metadata": {},
     "output_type": "execute_result"
    }
   ],
   "source": [
    "# function to calculate of average of first N prime numebers\n",
    "\n",
    "def prime_avg(n):\n",
    "    primecount=0\n",
    "    summ=0\n",
    "    seqcount=2\n",
    "    while(primecount < n):\n",
    "        if prime(seqcount):\n",
    "            primecount+=1\n",
    "            print(primecount)\n",
    "            summ+=seqcount\n",
    "        seqcount+=1\n",
    "    return summ/n\n",
    "\n",
    "prime_avg(10)"
   ]
  },
  {
   "cell_type": "code",
   "execution_count": 9,
   "metadata": {},
   "outputs": [
    {
     "name": "stdout",
     "output_type": "stream",
     "text": [
      "6 28 496 "
     ]
    }
   ],
   "source": [
    "# function to generate all perfect number sin a given range\n",
    "\n",
    "def isperfect(n):\n",
    "    su=0\n",
    "    for j in range(1,n):\n",
    "        if n%j==0:\n",
    "            su+=j\n",
    "    if su==n:\n",
    "        return True\n",
    "    else:\n",
    "        return False\n",
    "\n",
    "def generateperfect(lb,ub):\n",
    "    for i in range(lb,ub+1):\n",
    "        if isperfect(i):\n",
    "            print(i,end=\" \")\n",
    "    return\n",
    "\n",
    "generateperfect(1,1000)\n",
    "    "
   ]
  },
  {
   "cell_type": "code",
   "execution_count": null,
   "metadata": {},
   "outputs": [],
   "source": []
  },
  {
   "cell_type": "markdown",
   "metadata": {},
   "source": [
    "### Advanced Problem Set"
   ]
  },
  {
   "cell_type": "code",
   "execution_count": 122,
   "metadata": {},
   "outputs": [
    {
     "name": "stdout",
     "output_type": "stream",
     "text": [
      " 1  1 2  1 2 6  1 2 6 24  1 2 6 24 120 "
     ]
    },
    {
     "data": {
      "text/plain": [
       "30.6"
      ]
     },
     "execution_count": 122,
     "metadata": {},
     "output_type": "execute_result"
    }
   ],
   "source": [
    "# fucntion to average of factorial in given range\n",
    "\n",
    "def avgofAllFactorial(start,end):\n",
    "    sum=0\n",
    "    for i in range(start,end+1):\n",
    "        fact=1\n",
    "        print(end=\" \")\n",
    "        for j in range(1,i+1):\n",
    "            fact=fact*j\n",
    "            print(fact,end=\" \")\n",
    "        sum=sum+fact\n",
    "    return sum/i\n",
    "\n",
    "avgofAllFactorial(1,5)"
   ]
  },
  {
   "cell_type": "code",
   "execution_count": 76,
   "metadata": {},
   "outputs": [
    {
     "data": {
      "text/plain": [
       "True"
      ]
     },
     "execution_count": 76,
     "metadata": {},
     "output_type": "execute_result"
    }
   ],
   "source": [
    "#function to check armstrong numbers\n",
    "\n",
    "def arm_check(num):\n",
    "    order = len(str(num))\n",
    "    summ=0\n",
    "    temp = num\n",
    "    while temp > 0:\n",
    "        digit = temp % 10\n",
    "        summ += digit ** order\n",
    "        temp //= 10\n",
    "  \n",
    "    if num == summ:  \n",
    "        return True\n",
    "    else:\n",
    "        return False\n",
    "    \n",
    "arm_check(40028394225)"
   ]
  },
  {
   "cell_type": "code",
   "execution_count": 121,
   "metadata": {},
   "outputs": [
    {
     "name": "stdout",
     "output_type": "stream",
     "text": [
      "1 3 5 7 9 153 371 407 92727 1741725 "
     ]
    }
   ],
   "source": [
    "#function to generate N of odd armstrong numbers\n",
    "\n",
    "def arm_check_od(n):\n",
    "    i=1\n",
    "    c=0\n",
    "    while c!=n:\n",
    "        if arm_check(i) and i%2!=0:\n",
    "            c+=1\n",
    "            print(i,end=\" \")\n",
    "        i+=1\n",
    "            \n",
    "arm_check_od(10)\n",
    "            \n"
   ]
  },
  {
   "cell_type": "code",
   "execution_count": 55,
   "metadata": {},
   "outputs": [
    {
     "name": "stdout",
     "output_type": "stream",
     "text": [
      "10  *  100  =  1000\n",
      "10  *  101  =  1010\n",
      "10  *  102  =  1020\n"
     ]
    }
   ],
   "source": [
    "#function to generate Multiplication table for a number in agiven range:\n",
    "    # 10 in the range (100,102) inclusive\n",
    "    # 10 * 100 =1000\n",
    "    # 10 * 101 =1010\n",
    "    # 10 * 102 =1020\n",
    "    \n",
    "def multiply(n,start, end):\n",
    "    for i in range(start, end+1):\n",
    "        print(n ,\" * \",i,\" = \",n*i)\n",
    "    return\n",
    "\n",
    "multiply(10,100,102)"
   ]
  },
  {
   "cell_type": "code",
   "execution_count": null,
   "metadata": {},
   "outputs": [],
   "source": []
  },
  {
   "cell_type": "code",
   "execution_count": null,
   "metadata": {},
   "outputs": [],
   "source": [
    "\n"
   ]
  },
  {
   "cell_type": "code",
   "execution_count": null,
   "metadata": {},
   "outputs": [],
   "source": []
  },
  {
   "cell_type": "code",
   "execution_count": null,
   "metadata": {},
   "outputs": [],
   "source": []
  },
  {
   "cell_type": "code",
   "execution_count": null,
   "metadata": {},
   "outputs": [],
   "source": []
  },
  {
   "cell_type": "code",
   "execution_count": null,
   "metadata": {},
   "outputs": [],
   "source": []
  },
  {
   "cell_type": "code",
   "execution_count": null,
   "metadata": {},
   "outputs": [],
   "source": []
  }
 ],
 "metadata": {
  "kernelspec": {
   "display_name": "Python 3",
   "language": "python",
   "name": "python3"
  },
  "language_info": {
   "codemirror_mode": {
    "name": "ipython",
    "version": 3
   },
   "file_extension": ".py",
   "mimetype": "text/x-python",
   "name": "python",
   "nbconvert_exporter": "python",
   "pygments_lexer": "ipython3",
   "version": "3.7.3"
  },
  "widgets": {
   "application/vnd.jupyter.widget-state+json": {
    "state": {},
    "version_major": 2,
    "version_minor": 0
   }
  }
 },
 "nbformat": 4,
 "nbformat_minor": 2
}
