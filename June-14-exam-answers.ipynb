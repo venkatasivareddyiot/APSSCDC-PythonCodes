{
 "cells": [
  {
   "cell_type": "code",
   "execution_count": 1,
   "metadata": {},
   "outputs": [
    {
     "name": "stdout",
     "output_type": "stream",
     "text": [
      "3\n"
     ]
    },
    {
     "data": {
      "text/plain": [
       "14"
      ]
     },
     "execution_count": 1,
     "metadata": {},
     "output_type": "execute_result"
    }
   ],
   "source": [
    "# Sum of squares of N numbers\n",
    "\n",
    "n=int(input())\n",
    "\n",
    "def sumsquares(n):\n",
    "    sum=0\n",
    "    for i in range(1,n+1):\n",
    "        sum=sum+i**2\n",
    "    return sum\n",
    "\n",
    "sumsquares(n)"
   ]
  },
  {
   "cell_type": "code",
   "execution_count": 14,
   "metadata": {},
   "outputs": [
    {
     "name": "stdout",
     "output_type": "stream",
     "text": [
      "4\n",
      "-1 2\n"
     ]
    },
    {
     "data": {
      "text/plain": [
       "-1"
      ]
     },
     "execution_count": 14,
     "metadata": {},
     "output_type": "execute_result"
    }
   ],
   "source": [
    "# given a integer array A of size N. print the value closest to 0. if there are multiple elements print the largest element.\n",
    "\n",
    "n=int(input())\n",
    "s = input()\n",
    "li = []\n",
    "for i in s.split():\n",
    "    li.append(int(i))\n",
    "\n",
    "def ClosestZero(li):\n",
    "    #seperate all thr numbers less than 0 and greater than 0\n",
    "    nl=[]\n",
    "    for i in li:\n",
    "        if i<0:\n",
    "            nl.append(i)\n",
    "    pl=[]\n",
    "    for j in li:\n",
    "        if j>=0:\n",
    "            pl.append(j)\n",
    "    nc = max(nl)\n",
    "    pc = min(pl)\n",
    "    if pc==0:\n",
    "        return 0\n",
    "    elif abs(nc)==pc:\n",
    "        return pc\n",
    "    elif nc < pc:\n",
    "        return nc\n",
    "    else:\n",
    "        return pc\n",
    "\n",
    "ClosestZero(li)\n",
    "    "
   ]
  },
  {
   "cell_type": "markdown",
   "metadata": {},
   "source": [
    "### Problem\n",
    "\n",
    "#### given a integer array A of size N. print the value closest to 0. if there are multiple elements print the largest element.\n",
    "\n",
    "##### **INPUT FORMAT**\n",
    "\n",
    "The first line contains a single interger N \n",
    "The next line contains N space separated lines\n",
    "\n",
    "##### **Explanation**\n",
    "\n",
    "- li = [3, 2, -1, -2, -3] --> original list\n",
    "- sort the data\n",
    "- li = [-3, -2, -1, 2, 3] --> sorted list\n",
    "- pl = [1, 2, 2, 3, 3]  -->  Positive list\n",
    "- pl[0] --> check if this number is -ve or +ve in the list\n",
    "- if pl[0] in li:\n",
    "    - return pl[0]\n",
    "- else \n",
    "    - return pl[0]\n",
    "\n"
   ]
  },
  {
   "cell_type": "code",
   "execution_count": 22,
   "metadata": {},
   "outputs": [
    {
     "name": "stdout",
     "output_type": "stream",
     "text": [
      "1\n"
     ]
    }
   ],
   "source": [
    "li=[-1, -2, 3, 4, 1]\n",
    "li.sort()\n",
    "pl=[]\n",
    "for i in li:\n",
    "    pl.append(abs(i))\n",
    "pl.sort()\n",
    "if pl[0] in li:\n",
    "    print(pl[0])\n",
    "else:\n",
    "    print(-pl[0])"
   ]
  },
  {
   "cell_type": "code",
   "execution_count": 4,
   "metadata": {},
   "outputs": [
    {
     "name": "stdout",
     "output_type": "stream",
     "text": [
      "1\n",
      "2\n",
      "4\n",
      "-1\n"
     ]
    }
   ],
   "source": [
    "# girvn 3 numbers a,b,c. write a program to find the largest number which is less than or equal to C\n",
    "# and leaves a reminder b when divided by a. if not print -1\n",
    "a= int(input())\n",
    "b= int(input())\n",
    "c= int(input())\n",
    "\n",
    "\n",
    "for i in range(c,a-1,-1):\n",
    "    if i>=b and i>=a:\n",
    "        if i%a==b:\n",
    "            print(i)\n",
    "            break\n",
    "    else:\n",
    "        print(-1)\n"
   ]
  },
  {
   "cell_type": "code",
   "execution_count": 2,
   "metadata": {},
   "outputs": [
    {
     "data": {
      "text/plain": [
       "-1"
      ]
     },
     "execution_count": 2,
     "metadata": {},
     "output_type": "execute_result"
    }
   ],
   "source": [
    "def cal(a,b,c):\n",
    "    for i in range(c,a-1,-1):\n",
    "        if i&a==b:\n",
    "            return i\n",
    "    return -1\n",
    "\n",
    "cal(1,2,4)\n"
   ]
  },
  {
   "cell_type": "code",
   "execution_count": null,
   "metadata": {},
   "outputs": [],
   "source": []
  },
  {
   "cell_type": "code",
   "execution_count": null,
   "metadata": {},
   "outputs": [],
   "source": []
  }
 ],
 "metadata": {
  "kernelspec": {
   "display_name": "Python 3",
   "language": "python",
   "name": "python3"
  },
  "language_info": {
   "codemirror_mode": {
    "name": "ipython",
    "version": 3
   },
   "file_extension": ".py",
   "mimetype": "text/x-python",
   "name": "python",
   "nbconvert_exporter": "python",
   "pygments_lexer": "ipython3",
   "version": "3.7.3"
  }
 },
 "nbformat": 4,
 "nbformat_minor": 2
}
