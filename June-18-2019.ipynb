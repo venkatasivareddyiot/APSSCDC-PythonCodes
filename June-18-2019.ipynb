{
 "cells": [
  {
   "cell_type": "markdown",
   "metadata": {},
   "source": [
    "### Play with numbers "
   ]
  },
  {
   "cell_type": "code",
   "execution_count": null,
   "metadata": {},
   "outputs": [],
   "source": [
    "n = input().split()\n",
    "n[0],n[1] = int(n[0]),int(n[1])\n",
    "\n",
    "#read array elements\n",
    "a = input().split()\n",
    "sum=[]\n",
    "\n",
    "#cumulative sum\n",
    "for i in range(0, n[0]):\n",
    "    if i == 0:\n",
    "        sum.append(int(a[i]))\n",
    "    else:\n",
    "        sum.append(int(sum[i-1]) + int(a[i]))\n",
    "        \n",
    "del a\n",
    "        \n",
    "#Read the each query and calculate the average\n",
    "q=[]\n",
    "for k in range(0, n[1]):\n",
    "    qin = input().split()\n",
    "    i = int(qin[0])\n",
    "    j = int(qin[1])\n",
    "    if i > 1:\n",
    "        print((sum[j-1] - sum[i-2]) // (j-i+1))\n",
    "    else:\n",
    "        print(sum[j -1] // (j-i+1))\n",
    "        "
   ]
  },
  {
   "cell_type": "code",
   "execution_count": null,
   "metadata": {},
   "outputs": [],
   "source": []
  },
  {
   "cell_type": "markdown",
   "metadata": {},
   "source": [
    "## Special Number - 17 june 15 marks problem"
   ]
  },
  {
   "cell_type": "code",
   "execution_count": null,
   "metadata": {},
   "outputs": [],
   "source": [
    "#function to determine if a number is special number\n",
    "def SpecialNumber(n, p):\n",
    "    if numberOfPrimeFactors(n)>=p:\n",
    "        return True\n",
    "    return False\n",
    "\n",
    "#function to check if number is prime\n",
    "def isprime(num):\n",
    "    if num ==2:\n",
    "        return True\n",
    "    for i in range(2, num//2 +1):\n",
    "        if num%i == 0:\n",
    "            return False\n",
    "    return True\n",
    "\n",
    "#function to determine number of prime factors for a given number\n",
    "def numberOfPrimeFactors(number):\n",
    "    if isprime(number):\n",
    "        return 1\n",
    "    count = 0\n",
    "    for i in range(2, number//2 +1):\n",
    "        if isprime(i) and number%i ==0:\n",
    "            count+=1\n",
    "    return count\n",
    "\n",
    "def solution2():\n",
    "    p=int(input())\n",
    "    t=int(input())\n",
    "    for i in range(0,t):\n",
    "        n = int(input())\n",
    "        if SpecialNumber(n):\n",
    "            print(\"YES\")\n",
    "        else:\n",
    "            print(\"NO\")"
   ]
  },
  {
   "cell_type": "code",
   "execution_count": null,
   "metadata": {},
   "outputs": [],
   "source": []
  },
  {
   "cell_type": "markdown",
   "metadata": {},
   "source": [
    "### Highest Remainder"
   ]
  },
  {
   "cell_type": "code",
   "execution_count": 7,
   "metadata": {},
   "outputs": [
    {
     "name": "stdout",
     "output_type": "stream",
     "text": [
      "16\n"
     ]
    }
   ],
   "source": [
    "def highestRemainder(n):\n",
    "    hr = 0\n",
    "    v =n\n",
    "    for i in range(n-1, n //2 +1, -1):\n",
    "        r = n%i\n",
    "        if r > hr:\n",
    "            hr = r\n",
    "            v = i-1\n",
    "    print(v)\n",
    "    return \n",
    "\n",
    "highestRemainder(30)"
   ]
  },
  {
   "cell_type": "code",
   "execution_count": null,
   "metadata": {},
   "outputs": [],
   "source": []
  },
  {
   "cell_type": "markdown",
   "metadata": {},
   "source": [
    "## Tuples\n",
    "\n",
    "tupple is reperesented using ()\n",
    "\n",
    "list is represented using [ ]\n",
    "\n",
    "Differences between tuples and list\n",
    "\n",
    "- Lists are mutable - can be changes / modified\n",
    "    - Used to Access , Modify , add , Delete Data\n",
    "    \n",
    "- Tuples are immutable - cannot be changed once initialised\n",
    "    - Used to access data only\n",
    "\n",
    "- All Slicing works\n"
   ]
  },
  {
   "cell_type": "code",
   "execution_count": 11,
   "metadata": {},
   "outputs": [
    {
     "name": "stdout",
     "output_type": "stream",
     "text": [
      "4\n",
      "(3, 4, 5)\n"
     ]
    }
   ],
   "source": [
    "t1 = (1, 2, 3, 4, 5)\n",
    "\n",
    "print(t1[3])  #Accessing 4th element\n",
    "\n",
    "print(t1[len(t1)//2:]) #Accessing elements from middle to last"
   ]
  },
  {
   "cell_type": "code",
   "execution_count": null,
   "metadata": {},
   "outputs": [],
   "source": []
  },
  {
   "cell_type": "markdown",
   "metadata": {},
   "source": [
    "## Dictionaries in Python\n",
    "\n",
    "It works on the concept of a set\n",
    "Unique data\n",
    "\n",
    "\n",
    "Keys, Values\n",
    "- Key is the unique identifies for a a value\n",
    "- Value is a data that can be accessed with a key\n",
    "- Dictionanries are used in curly braces {  }"
   ]
  },
  {
   "cell_type": "code",
   "execution_count": 20,
   "metadata": {},
   "outputs": [
    {
     "name": "stdout",
     "output_type": "stream",
     "text": [
      "value2\n",
      "dict_keys(['k1', 'k2'])\n",
      "dict_values(['value1', 'value2'])\n",
      "dict_items([('k1', 'value1'), ('k2', 'value2')])\n",
      "{'k1': 'value1', 'k2': 'value2'}\n"
     ]
    }
   ],
   "source": [
    "d1 = {\"k1\":\"value1\", \"k2\":\"value2\"}\n",
    "\n",
    "print(d1[\"k2\"])    #Accessing athe value with key \"k2\"\n",
    "\n",
    "print(d1.keys())   #Accessing list of all keys\n",
    "\n",
    "print(d1.values())  #Returns list of all values\n",
    "\n",
    "print(d1.items())   #Returns list of tuples of keys and values\n",
    "\n",
    "d1[\"k3\"] = \"value3\"  #Adding an additional value\n",
    "\n",
    "d1[\"k3\"] = \"value4\"  #Updating an element\n",
    "\n",
    "d1.pop(\"k3\") #Removing an element\n",
    "\n",
    "print(d1)"
   ]
  },
  {
   "cell_type": "markdown",
   "metadata": {},
   "source": [
    "### Contact Application\n",
    "\n",
    "- Add Contact\n",
    "- Search for contact\n",
    "- List all contacts\n",
    "- Modify contact\n",
    "- Remove contact\n",
    "- Import contact"
   ]
  },
  {
   "cell_type": "code",
   "execution_count": 5,
   "metadata": {},
   "outputs": [
    {
     "name": "stdout",
     "output_type": "stream",
     "text": [
      "3\n",
      "mohan\n",
      "98765432\n",
      "contact mohan added\n",
      "praveen\n",
      "987654323456\n",
      "contact praveen added\n",
      "kumar\n",
      "45678987654\n",
      "contact kumar added\n"
     ]
    }
   ],
   "source": [
    "contacts={}\n",
    "\n",
    "def addcontact(name, phone):\n",
    "    if name not in contacts:\n",
    "        contacts[name] = phone\n",
    "        print(\"contact %s added\" %name)\n",
    "    else:\n",
    "        print(\"Contact %s already exsits\" %name)\n",
    "    return\n",
    "\n",
    "n = int(input())\n",
    "for i in range(n):\n",
    "    name=input()\n",
    "    phone = input()\n",
    "    addcontact(name,phone)"
   ]
  },
  {
   "cell_type": "code",
   "execution_count": 6,
   "metadata": {},
   "outputs": [
    {
     "data": {
      "text/plain": [
       "{'mohan': '98765432', 'praveen': '987654323456', 'kumar': '45678987654'}"
      ]
     },
     "execution_count": 6,
     "metadata": {},
     "output_type": "execute_result"
    }
   ],
   "source": [
    "contacts"
   ]
  },
  {
   "cell_type": "code",
   "execution_count": 7,
   "metadata": {},
   "outputs": [
    {
     "name": "stdout",
     "output_type": "stream",
     "text": [
      "apssdc does not exit\n"
     ]
    }
   ],
   "source": [
    "def searchContacts(name):\n",
    "    if name in contacts:\n",
    "        print(name, \":\" , contacts[name])\n",
    "    else:\n",
    "        print(\"%s does not exit\" %name)\n",
    "        \n",
    "searchContacts(\"apssdc\")"
   ]
  },
  {
   "cell_type": "code",
   "execution_count": 8,
   "metadata": {},
   "outputs": [],
   "source": [
    "def listofContacts(contacts):\n",
    "    for keys in contacts:\n",
    "        print(keys)\n",
    "        for values in contacts[keys]:\n",
    "            print(values,\":\", contacts[keys][values])\n",
    "            "
   ]
  },
  {
   "cell_type": "code",
   "execution_count": 10,
   "metadata": {},
   "outputs": [
    {
     "name": "stdout",
     "output_type": "stream",
     "text": [
      "sdc name not found\n"
     ]
    }
   ],
   "source": [
    "def Modify(name):\n",
    "    if name in contacts:\n",
    "        contacts[name]=\"987654321\"\n",
    "        print(\"%s is modified\" %name)\n",
    "    else:\n",
    "        print(\"%s name not found\" %name)\n",
    "\n",
    "Modify(\"sdc\")"
   ]
  },
  {
   "cell_type": "code",
   "execution_count": 11,
   "metadata": {},
   "outputs": [
    {
     "data": {
      "text/plain": [
       "{'mohan': '98765432', 'praveen': '987654323456', 'kumar': '45678987654'}"
      ]
     },
     "execution_count": 11,
     "metadata": {},
     "output_type": "execute_result"
    }
   ],
   "source": [
    "contacts"
   ]
  },
  {
   "cell_type": "code",
   "execution_count": 48,
   "metadata": {},
   "outputs": [
    {
     "name": "stdout",
     "output_type": "stream",
     "text": [
      "sdc is deleted\n"
     ]
    }
   ],
   "source": [
    "def deletecontact(name):\n",
    "    if name in contacts:\n",
    "        contacts.pop(name)\n",
    "        print(\"%s is deleted\" %name)\n",
    "    else:\n",
    "        print(\"%s not found\" %name)\n",
    "        \n",
    "deletecontact(\"sdc\")"
   ]
  },
  {
   "cell_type": "code",
   "execution_count": 56,
   "metadata": {},
   "outputs": [
    {
     "data": {
      "text/plain": [
       "{'apssdc': '9989601235'}"
      ]
     },
     "execution_count": 56,
     "metadata": {},
     "output_type": "execute_result"
    }
   ],
   "source": [
    "contacts"
   ]
  },
  {
   "cell_type": "code",
   "execution_count": 66,
   "metadata": {},
   "outputs": [
    {
     "name": "stdout",
     "output_type": "stream",
     "text": [
      "2 contacts added succesfully\n",
      "{'mohan': '970865', 'praveen': '8736458634', 'kumar': '6856434534', 'tej': '7789760'}\n"
     ]
    }
   ],
   "source": [
    "def importcontacts(newcontacts):\n",
    "    contacts.update(newcontacts)\n",
    "    print(len(newcontacts.keys()), \"contacts added succesfully\")\n",
    "    print(contacts)\n",
    "    return\n",
    "\n",
    "newcontacts={\"mohan\":\"970865\",\"tej\":\"7789760\"}\n",
    "importcontacts(newcontacts)"
   ]
  },
  {
   "cell_type": "code",
   "execution_count": null,
   "metadata": {},
   "outputs": [],
   "source": []
  },
  {
   "cell_type": "markdown",
   "metadata": {},
   "source": [
    "##  Packages and Modules\n",
    "\n",
    "**Package** --> Collection or group of modules (python files)\n",
    "\n",
    "**Module** --> Is a python file with different function\n",
    "\n",
    "*Package --> Subpackage --> Modules --> Functiond*"
   ]
  },
  {
   "cell_type": "code",
   "execution_count": 69,
   "metadata": {},
   "outputs": [
    {
     "data": {
      "text/plain": [
       "3.141592653589793"
      ]
     },
     "execution_count": 69,
     "metadata": {},
     "output_type": "execute_result"
    }
   ],
   "source": [
    "import math\n",
    "\n",
    "math.floor(123.345356)\n",
    "\n",
    "math.pi"
   ]
  },
  {
   "cell_type": "code",
   "execution_count": 70,
   "metadata": {},
   "outputs": [
    {
     "data": {
      "text/plain": [
       "3.141592653589793"
      ]
     },
     "execution_count": 70,
     "metadata": {},
     "output_type": "execute_result"
    }
   ],
   "source": [
    "from math import floor,pi\n",
    "\n",
    "floor(13453.43546)\n",
    "\n",
    "pi"
   ]
  },
  {
   "cell_type": "code",
   "execution_count": 72,
   "metadata": {},
   "outputs": [
    {
     "name": "stdout",
     "output_type": "stream",
     "text": [
      "62 56 52 100 64 31 36 19 59 39 "
     ]
    }
   ],
   "source": [
    "#Function to generate N randon numbers in a given range\n",
    "import random\n",
    "\n",
    "def Nrandomnumbers(n, lb, up):\n",
    "    for i in range(0,n):\n",
    "        print(random.randint(lb,up), end=\" \")\n",
    "        \n",
    "Nrandomnumbers(10, 0, 100)"
   ]
  },
  {
   "cell_type": "code",
   "execution_count": null,
   "metadata": {},
   "outputs": [],
   "source": []
  },
  {
   "cell_type": "code",
   "execution_count": 3,
   "metadata": {},
   "outputs": [
    {
     "data": {
      "text/plain": [
       "False"
      ]
     },
     "execution_count": 3,
     "metadata": {},
     "output_type": "execute_result"
    }
   ],
   "source": [
    "from PACKAGES import numerical as my_fun\n",
    "\n",
    "my_fun.numberOfPrimeFactors(1013)\n",
    "\n",
    "my_fun.isprime(51)\n",
    "\n"
   ]
  },
  {
   "cell_type": "code",
   "execution_count": 4,
   "metadata": {},
   "outputs": [
    {
     "data": {
      "text/plain": [
       "False"
      ]
     },
     "execution_count": 4,
     "metadata": {},
     "output_type": "execute_result"
    }
   ],
   "source": [
    "from PACKAGES.numerical import isprime\n",
    "isprime(234567)"
   ]
  },
  {
   "cell_type": "code",
   "execution_count": null,
   "metadata": {},
   "outputs": [],
   "source": []
  }
 ],
 "metadata": {
  "kernelspec": {
   "display_name": "Python 3",
   "language": "python",
   "name": "python3"
  },
  "language_info": {
   "codemirror_mode": {
    "name": "ipython",
    "version": 3
   },
   "file_extension": ".py",
   "mimetype": "text/x-python",
   "name": "python",
   "nbconvert_exporter": "python",
   "pygments_lexer": "ipython3",
   "version": "3.7.3"
  }
 },
 "nbformat": 4,
 "nbformat_minor": 2
}
