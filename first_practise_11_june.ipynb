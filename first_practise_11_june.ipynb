{
 "cells": [
  {
   "cell_type": "markdown",
   "metadata": {},
   "source": [
    "# Markdown Basics\n",
    "\n",
    "* **Bold**\n",
    "* *Italic*\n",
    "* ***IB***\n",
    "\n",
    "#### Unordered List\n",
    "* Normal Text\n",
    "    * Subtitle 1\n",
    "    * Subtitle 2\n",
    "    \n",
    "    \n",
    "    \n",
    "    \n",
    "#### Ordered List\n",
    "\n",
    "1. Ordered element 1\n",
    "2. Ordered element 2\n",
    "\n",
    "\n",
    "#### Task List\n",
    "\n",
    "- [ ] option1\n",
    "- [ ] option 2\n",
    "- [x] option3\n",
    "\n",
    "\n",
    "\n",
    "\n",
    "#### Uploading an Image\n",
    "\n",
    "[Jupyter_logo](Jupyter_logo.png)\n",
    "\n",
    "![Jupyter_logo](Jupyter_logo.png)\n",
    "\n",
    "<img src=\"Jupyter_logo.png\" height=\"100\" width=\"100\" aligh=\"left\">\n",
    "\n",
    "\n",
    "\n",
    "\n",
    "I get 10 times more traffic from [Google] [1] than from\n",
    "[Yahoo] [2] or [MSN] [3].\n",
    "\n",
    "  [1]: http://google.com/        \"Google\"\n",
    "  [2]: http://search.yahoo.com/  \"Yahoo Search\"\n",
    "  [3]: http://search.msn.com/    \"MSN Search\"\n",
    "  \n",
    "  \n",
    "\n",
    "for Code format font use `\n",
    "`printf(\"Hello Markdown\")`\n"
   ]
  },
  {
   "cell_type": "code",
   "execution_count": null,
   "metadata": {},
   "outputs": [],
   "source": []
  },
  {
   "cell_type": "markdown",
   "metadata": {},
   "source": [
    "## Python Basics\n",
    "\n",
    "##### Python version 3.7"
   ]
  },
  {
   "cell_type": "code",
   "execution_count": 1,
   "metadata": {},
   "outputs": [
    {
     "name": "stdout",
     "output_type": "stream",
     "text": [
      "good Afternoon  ! !||Hello Python\n"
     ]
    }
   ],
   "source": [
    "# python comments\n",
    "\n",
    "print(\"good Afternoon  !\", \"!\", end=\"||\") #basic output\n",
    "print(\"Hello Python\")"
   ]
  },
  {
   "cell_type": "code",
   "execution_count": null,
   "metadata": {},
   "outputs": [],
   "source": []
  },
  {
   "cell_type": "markdown",
   "metadata": {},
   "source": [
    "## DataTypes & Type Conversion\n",
    "\n",
    "- int\n",
    "- float\n",
    "- string\n",
    "- double"
   ]
  },
  {
   "cell_type": "code",
   "execution_count": 29,
   "metadata": {},
   "outputs": [
    {
     "data": {
      "text/plain": [
       "12.0"
      ]
     },
     "execution_count": 29,
     "metadata": {},
     "output_type": "execute_result"
    }
   ],
   "source": [
    "type(a)\n",
    "s1= \"Python\"\n",
    "type(s1)\n",
    "\n",
    "f1 = 12.345\n",
    "type(f1)\n",
    "\n",
    "int (f1)\n",
    "\n",
    "float(str(int(f1)))"
   ]
  },
  {
   "cell_type": "code",
   "execution_count": null,
   "metadata": {},
   "outputs": [],
   "source": []
  },
  {
   "cell_type": "markdown",
   "metadata": {},
   "source": [
    "## Assignment"
   ]
  },
  {
   "cell_type": "code",
   "execution_count": 2,
   "metadata": {},
   "outputs": [
    {
     "name": "stdout",
     "output_type": "stream",
     "text": [
      "123 234 345\n"
     ]
    }
   ],
   "source": [
    "n1=122345665 #wingle variable\n",
    "\n",
    "n4=n2=n3=n1 #multi variable Assignment of the same value\n",
    "\n",
    "\n",
    "a, b, c = 123, 234, 345 #multi variable multi value\n",
    "\n",
    "print(a,b,c)"
   ]
  },
  {
   "cell_type": "code",
   "execution_count": null,
   "metadata": {},
   "outputs": [],
   "source": []
  },
  {
   "cell_type": "markdown",
   "metadata": {},
   "source": [
    "##  Arthmetic Operators\n",
    "\n",
    "- +\n",
    "- -\n",
    "- /\n",
    "- *\n",
    "- %\n",
    "- **"
   ]
  },
  {
   "cell_type": "code",
   "execution_count": 31,
   "metadata": {},
   "outputs": [
    {
     "data": {
      "text/plain": [
       "6130687873308026945890176790042303730066739281"
      ]
     },
     "execution_count": 31,
     "metadata": {},
     "output_type": "execute_result"
    }
   ],
   "source": [
    "n1 % 11\n",
    "\n",
    "n3 =n2 ** 123\n",
    "\n",
    "type(n3)\n",
    "len(str(n3))\n",
    "\n",
    "atoms = 10 ** 82\n",
    "len(str(atoms))\n",
    "type(str(atoms))\n",
    "\n",
    "122321 ** 9"
   ]
  },
  {
   "cell_type": "code",
   "execution_count": null,
   "metadata": {},
   "outputs": [],
   "source": []
  },
  {
   "cell_type": "markdown",
   "metadata": {},
   "source": [
    "## Conditionals Operators\n"
   ]
  },
  {
   "cell_type": "code",
   "execution_count": 34,
   "metadata": {},
   "outputs": [
    {
     "name": "stdout",
     "output_type": "stream",
     "text": [
      "FALSE\n"
     ]
    }
   ],
   "source": [
    "if atoms < 10 ** 9:\n",
    "    print(\"TRUE\")\n",
    "else:\n",
    "    print(\"FALSE\")"
   ]
  },
  {
   "cell_type": "code",
   "execution_count": 36,
   "metadata": {},
   "outputs": [
    {
     "name": "stdout",
     "output_type": "stream",
     "text": [
      "enter the number123\n",
      "ODD\n"
     ]
    }
   ],
   "source": [
    "# check if a number is even\n",
    "\n",
    "n= int(input(\"enter the number\"))\n",
    "if n%2==0:\n",
    "    print(\"EVEN\")\n",
    "else:\n",
    "    print(\"ODD\")"
   ]
  },
  {
   "cell_type": "code",
   "execution_count": 44,
   "metadata": {},
   "outputs": [
    {
     "name": "stdout",
     "output_type": "stream",
     "text": [
      "Enter a value :  -1\n",
      "Enter b value :  -50\n",
      "Enter c value :  -100\n",
      "-1 a is bigger\n"
     ]
    }
   ],
   "source": [
    "# find the greatest of three numbers\n",
    "\n",
    "a = int(input(\"Enter a value :  \"))\n",
    "b = int(input(\"Enter b value :  \"))\n",
    "c = int(input(\"Enter c value :  \"))\n",
    "\n",
    "if a>b and a>c:\n",
    "    print(a,\"a is bigger\")\n",
    "\n",
    "elif b>a and b>c:\n",
    "    print(b,\" is bigger\")\n",
    "\n",
    "else:\n",
    "    print(c,\" is bigger\")"
   ]
  },
  {
   "cell_type": "code",
   "execution_count": 48,
   "metadata": {},
   "outputs": [
    {
     "name": "stdout",
     "output_type": "stream",
     "text": [
      " Enter the Year :  2000\n",
      "NOT A LEAP YEAR\n"
     ]
    }
   ],
   "source": [
    "# Find the leap year\n",
    "\n",
    "a= int(input(\" Enter the Year :  \"))\n",
    "\n",
    "if a%400 or (a%4==0 and a%100!=0):\n",
    "    print(\"LEAP YEAR\")\n",
    "else:\n",
    "    print(\"NOT A LEAP YEAR\")"
   ]
  },
  {
   "cell_type": "code",
   "execution_count": 49,
   "metadata": {},
   "outputs": [
    {
     "name": "stdout",
     "output_type": "stream",
     "text": [
      "enter the number23\n",
      "Enter the lower range1\n",
      "Enter the upper range50\n",
      "number found\n"
     ]
    }
   ],
   "source": [
    "# Check if a number exits in a given range\n",
    "\n",
    "n1 = int(input(\"enter the number\"))\n",
    "LR = int(input(\"Enter the lower range\"))\n",
    "UR = int(input(\"Enter the upper range\"))\n",
    "\n",
    "if LR<n1<UR:\n",
    "    print(\"number found\")\n",
    "else:\n",
    "    print(\"number not found\")\n"
   ]
  },
  {
   "cell_type": "code",
   "execution_count": 51,
   "metadata": {},
   "outputs": [
    {
     "name": "stdout",
     "output_type": "stream",
     "text": [
      "enter the number09823467298742982497\n"
     ]
    },
    {
     "data": {
      "text/plain": [
       "20"
      ]
     },
     "execution_count": 51,
     "metadata": {},
     "output_type": "execute_result"
    }
   ],
   "source": [
    "# calculate the number of digits in a number\n",
    "\n",
    "n = (input(\"enter the number\"))\n",
    "len(n)"
   ]
  },
  {
   "cell_type": "code",
   "execution_count": 53,
   "metadata": {},
   "outputs": [
    {
     "name": "stdout",
     "output_type": "stream",
     "text": [
      "enter the number45\n",
      "FALSE\n"
     ]
    }
   ],
   "source": [
    "# check if a number is a multiple of 10\n",
    "\n",
    "n= int(input(\"enter the number\"))\n",
    "\n",
    "if n%10==0:\n",
    "    print(\"TRUE\")\n",
    "else:\n",
    "    print(\"FALSE\")"
   ]
  },
  {
   "cell_type": "code",
   "execution_count": 55,
   "metadata": {},
   "outputs": [
    {
     "name": "stdout",
     "output_type": "stream",
     "text": [
      "enter a number34\n",
      "It is not a factor\n"
     ]
    }
   ],
   "source": [
    "# check if a number is a factor of 1000\n",
    "\n",
    "n = int(input(\"enter a number\"))\n",
    "\n",
    "if 1000%n==0:\n",
    "    print(\"It is a factor\")\n",
    "else:\n",
    "    print(\"It is not a factor\")\n",
    " "
   ]
  },
  {
   "cell_type": "code",
   "execution_count": 65,
   "metadata": {},
   "outputs": [
    {
     "name": "stdout",
     "output_type": "stream",
     "text": [
      "enter the string : python\n",
      "enter number : 123456\n",
      "not same\n"
     ]
    }
   ],
   "source": [
    "# check if a given string is equal to a number\n",
    "\n",
    "st=input(\"enter the string : \")\n",
    "num=int(input(\"enter number : \"))\n",
    "convert=str(num)\n",
    "if convert==st:\n",
    "    print(\"same\")\n",
    "else:\n",
    "    print(\"not same\")"
   ]
  },
  {
   "cell_type": "code",
   "execution_count": 57,
   "metadata": {},
   "outputs": [
    {
     "name": "stdout",
     "output_type": "stream",
     "text": [
      "enter the number256\n",
      "square root of 256 is 16.0\n"
     ]
    }
   ],
   "source": [
    "# calculate the square root of a number without using functions\n",
    "\n",
    "number = int(input(\"enter the number\"))\n",
    "sqr_root=number**0.5\n",
    "print(\"square root of\", number ,\"is\", sqr_root)"
   ]
  },
  {
   "cell_type": "code",
   "execution_count": 64,
   "metadata": {},
   "outputs": [
    {
     "name": "stdout",
     "output_type": "stream",
     "text": [
      "enter the Year2019\n",
      "31536000000000000\n"
     ]
    }
   ],
   "source": [
    "# calculate the number of nano seconds in a given year using leap year logic\n",
    "\n",
    "year = int(input(\"enter the Year\"))\n",
    "\n",
    "if a%400 or (a%4==0 and a%100!=0):\n",
    "    print(366*24*60*60*(10**9))\n",
    "else:\n",
    "    print(365*24*60*60*(10**9))"
   ]
  },
  {
   "cell_type": "code",
   "execution_count": null,
   "metadata": {},
   "outputs": [],
   "source": []
  },
  {
   "cell_type": "code",
   "execution_count": null,
   "metadata": {},
   "outputs": [],
   "source": []
  },
  {
   "cell_type": "code",
   "execution_count": null,
   "metadata": {},
   "outputs": [],
   "source": []
  }
 ],
 "metadata": {
  "kernelspec": {
   "display_name": "Python 3",
   "language": "python",
   "name": "python3"
  },
  "language_info": {
   "codemirror_mode": {
    "name": "ipython",
    "version": 3
   },
   "file_extension": ".py",
   "mimetype": "text/x-python",
   "name": "python",
   "nbconvert_exporter": "python",
   "pygments_lexer": "ipython3",
   "version": "3.7.3"
  }
 },
 "nbformat": 4,
 "nbformat_minor": 2
}
